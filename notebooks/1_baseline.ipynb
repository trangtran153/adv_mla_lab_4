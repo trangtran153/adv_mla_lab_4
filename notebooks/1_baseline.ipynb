{
 "cells": [
  {
   "cell_type": "code",
   "execution_count": 1,
   "id": "cf71a112-811b-41fc-8b8b-3117b05fe0dc",
   "metadata": {
    "tags": []
   },
   "outputs": [],
   "source": [
    "%load_ext autoreload\n",
    "%autoreload 2"
   ]
  },
  {
   "cell_type": "code",
   "execution_count": 2,
   "id": "d285cdd6-e8ba-4990-8612-d58f9bc8bec1",
   "metadata": {
    "tags": []
   },
   "outputs": [
    {
     "name": "stdout",
     "output_type": "stream",
     "text": [
      "Looking in indexes: https://test.pypi.org/simple/\n",
      "Collecting my-krml-149874\n",
      "  Downloading https://test-files.pythonhosted.org/packages/5f/03/69446b8f6ea157599ad7a5735fbcbd41cc5134d1ac2e4ae1aec23a739aca/my_krml_149874-0.1.10-py3-none-any.whl (17 kB)\n",
      "Requirement already satisfied: pandas==2.0.1 in /Users/admin/Library/Caches/pypoetry/virtualenvs/adv-mla-lab-4-6rnbtT38-py3.10/lib/python3.10/site-packages (from my-krml-149874) (2.0.1)\n",
      "Requirement already satisfied: scikit-learn==1.2.2 in /Users/admin/Library/Caches/pypoetry/virtualenvs/adv-mla-lab-4-6rnbtT38-py3.10/lib/python3.10/site-packages (from my-krml-149874) (1.2.2)\n",
      "Requirement already satisfied: python-dateutil>=2.8.2 in /Users/admin/Library/Caches/pypoetry/virtualenvs/adv-mla-lab-4-6rnbtT38-py3.10/lib/python3.10/site-packages (from pandas==2.0.1->my-krml-149874) (2.8.2)\n",
      "Requirement already satisfied: pytz>=2020.1 in /Users/admin/Library/Caches/pypoetry/virtualenvs/adv-mla-lab-4-6rnbtT38-py3.10/lib/python3.10/site-packages (from pandas==2.0.1->my-krml-149874) (2023.3.post1)\n",
      "Requirement already satisfied: tzdata>=2022.1 in /Users/admin/Library/Caches/pypoetry/virtualenvs/adv-mla-lab-4-6rnbtT38-py3.10/lib/python3.10/site-packages (from pandas==2.0.1->my-krml-149874) (2023.3)\n",
      "Requirement already satisfied: numpy>=1.21.0 in /Users/admin/Library/Caches/pypoetry/virtualenvs/adv-mla-lab-4-6rnbtT38-py3.10/lib/python3.10/site-packages (from pandas==2.0.1->my-krml-149874) (1.25.2)\n",
      "Requirement already satisfied: scipy>=1.3.2 in /Users/admin/Library/Caches/pypoetry/virtualenvs/adv-mla-lab-4-6rnbtT38-py3.10/lib/python3.10/site-packages (from scikit-learn==1.2.2->my-krml-149874) (1.9.3)\n",
      "Requirement already satisfied: joblib>=1.1.1 in /Users/admin/Library/Caches/pypoetry/virtualenvs/adv-mla-lab-4-6rnbtT38-py3.10/lib/python3.10/site-packages (from scikit-learn==1.2.2->my-krml-149874) (1.3.2)\n",
      "Requirement already satisfied: threadpoolctl>=2.0.0 in /Users/admin/Library/Caches/pypoetry/virtualenvs/adv-mla-lab-4-6rnbtT38-py3.10/lib/python3.10/site-packages (from scikit-learn==1.2.2->my-krml-149874) (3.2.0)\n",
      "Requirement already satisfied: six>=1.5 in /Users/admin/Library/Caches/pypoetry/virtualenvs/adv-mla-lab-4-6rnbtT38-py3.10/lib/python3.10/site-packages (from python-dateutil>=2.8.2->pandas==2.0.1->my-krml-149874) (1.16.0)\n",
      "Installing collected packages: my-krml-149874\n",
      "Successfully installed my-krml-149874-0.1.10\n"
     ]
    }
   ],
   "source": [
    "! pip install -i https://test.pypi.org/simple/ my-krml-149874"
   ]
  },
  {
   "cell_type": "code",
   "execution_count": 3,
   "id": "d616b747-15c7-4d01-9341-cfc2f8e52055",
   "metadata": {
    "tags": []
   },
   "outputs": [],
   "source": [
    "import pandas as pd\n",
    "import numpy as np"
   ]
  },
  {
   "cell_type": "code",
   "execution_count": 4,
   "id": "cfe3da86-a551-4b7e-ab43-960fc99a3ade",
   "metadata": {
    "tags": []
   },
   "outputs": [],
   "source": [
    "df = pd.read_csv('../data/raw/archive.zip')"
   ]
  },
  {
   "cell_type": "code",
   "execution_count": 5,
   "id": "c21e231e-cc17-41e5-a61f-bb9877a86e48",
   "metadata": {
    "tags": []
   },
   "outputs": [
    {
     "data": {
      "text/html": [
       "<div>\n",
       "<style scoped>\n",
       "    .dataframe tbody tr th:only-of-type {\n",
       "        vertical-align: middle;\n",
       "    }\n",
       "\n",
       "    .dataframe tbody tr th {\n",
       "        vertical-align: top;\n",
       "    }\n",
       "\n",
       "    .dataframe thead th {\n",
       "        text-align: right;\n",
       "    }\n",
       "</style>\n",
       "<table border=\"1\" class=\"dataframe\">\n",
       "  <thead>\n",
       "    <tr style=\"text-align: right;\">\n",
       "      <th></th>\n",
       "      <th>General_Health</th>\n",
       "      <th>Checkup</th>\n",
       "      <th>Exercise</th>\n",
       "      <th>Heart_Disease</th>\n",
       "      <th>Skin_Cancer</th>\n",
       "      <th>Other_Cancer</th>\n",
       "      <th>Depression</th>\n",
       "      <th>Diabetes</th>\n",
       "      <th>Arthritis</th>\n",
       "      <th>Sex</th>\n",
       "      <th>Age_Category</th>\n",
       "      <th>Height_(cm)</th>\n",
       "      <th>Weight_(kg)</th>\n",
       "      <th>BMI</th>\n",
       "      <th>Smoking_History</th>\n",
       "      <th>Alcohol_Consumption</th>\n",
       "      <th>Fruit_Consumption</th>\n",
       "      <th>Green_Vegetables_Consumption</th>\n",
       "      <th>FriedPotato_Consumption</th>\n",
       "    </tr>\n",
       "  </thead>\n",
       "  <tbody>\n",
       "    <tr>\n",
       "      <th>0</th>\n",
       "      <td>Poor</td>\n",
       "      <td>Within the past 2 years</td>\n",
       "      <td>No</td>\n",
       "      <td>No</td>\n",
       "      <td>No</td>\n",
       "      <td>No</td>\n",
       "      <td>No</td>\n",
       "      <td>No</td>\n",
       "      <td>Yes</td>\n",
       "      <td>Female</td>\n",
       "      <td>70-74</td>\n",
       "      <td>150.0</td>\n",
       "      <td>32.66</td>\n",
       "      <td>14.54</td>\n",
       "      <td>Yes</td>\n",
       "      <td>0.0</td>\n",
       "      <td>30.0</td>\n",
       "      <td>16.0</td>\n",
       "      <td>12.0</td>\n",
       "    </tr>\n",
       "    <tr>\n",
       "      <th>1</th>\n",
       "      <td>Very Good</td>\n",
       "      <td>Within the past year</td>\n",
       "      <td>No</td>\n",
       "      <td>Yes</td>\n",
       "      <td>No</td>\n",
       "      <td>No</td>\n",
       "      <td>No</td>\n",
       "      <td>Yes</td>\n",
       "      <td>No</td>\n",
       "      <td>Female</td>\n",
       "      <td>70-74</td>\n",
       "      <td>165.0</td>\n",
       "      <td>77.11</td>\n",
       "      <td>28.29</td>\n",
       "      <td>No</td>\n",
       "      <td>0.0</td>\n",
       "      <td>30.0</td>\n",
       "      <td>0.0</td>\n",
       "      <td>4.0</td>\n",
       "    </tr>\n",
       "    <tr>\n",
       "      <th>2</th>\n",
       "      <td>Very Good</td>\n",
       "      <td>Within the past year</td>\n",
       "      <td>Yes</td>\n",
       "      <td>No</td>\n",
       "      <td>No</td>\n",
       "      <td>No</td>\n",
       "      <td>No</td>\n",
       "      <td>Yes</td>\n",
       "      <td>No</td>\n",
       "      <td>Female</td>\n",
       "      <td>60-64</td>\n",
       "      <td>163.0</td>\n",
       "      <td>88.45</td>\n",
       "      <td>33.47</td>\n",
       "      <td>No</td>\n",
       "      <td>4.0</td>\n",
       "      <td>12.0</td>\n",
       "      <td>3.0</td>\n",
       "      <td>16.0</td>\n",
       "    </tr>\n",
       "    <tr>\n",
       "      <th>3</th>\n",
       "      <td>Poor</td>\n",
       "      <td>Within the past year</td>\n",
       "      <td>Yes</td>\n",
       "      <td>Yes</td>\n",
       "      <td>No</td>\n",
       "      <td>No</td>\n",
       "      <td>No</td>\n",
       "      <td>Yes</td>\n",
       "      <td>No</td>\n",
       "      <td>Male</td>\n",
       "      <td>75-79</td>\n",
       "      <td>180.0</td>\n",
       "      <td>93.44</td>\n",
       "      <td>28.73</td>\n",
       "      <td>No</td>\n",
       "      <td>0.0</td>\n",
       "      <td>30.0</td>\n",
       "      <td>30.0</td>\n",
       "      <td>8.0</td>\n",
       "    </tr>\n",
       "    <tr>\n",
       "      <th>4</th>\n",
       "      <td>Good</td>\n",
       "      <td>Within the past year</td>\n",
       "      <td>No</td>\n",
       "      <td>No</td>\n",
       "      <td>No</td>\n",
       "      <td>No</td>\n",
       "      <td>No</td>\n",
       "      <td>No</td>\n",
       "      <td>No</td>\n",
       "      <td>Male</td>\n",
       "      <td>80+</td>\n",
       "      <td>191.0</td>\n",
       "      <td>88.45</td>\n",
       "      <td>24.37</td>\n",
       "      <td>Yes</td>\n",
       "      <td>0.0</td>\n",
       "      <td>8.0</td>\n",
       "      <td>4.0</td>\n",
       "      <td>0.0</td>\n",
       "    </tr>\n",
       "  </tbody>\n",
       "</table>\n",
       "</div>"
      ],
      "text/plain": [
       "  General_Health                  Checkup Exercise Heart_Disease Skin_Cancer   \n",
       "0           Poor  Within the past 2 years       No            No          No  \\\n",
       "1      Very Good     Within the past year       No           Yes          No   \n",
       "2      Very Good     Within the past year      Yes            No          No   \n",
       "3           Poor     Within the past year      Yes           Yes          No   \n",
       "4           Good     Within the past year       No            No          No   \n",
       "\n",
       "  Other_Cancer Depression Diabetes Arthritis     Sex Age_Category   \n",
       "0           No         No       No       Yes  Female        70-74  \\\n",
       "1           No         No      Yes        No  Female        70-74   \n",
       "2           No         No      Yes        No  Female        60-64   \n",
       "3           No         No      Yes        No    Male        75-79   \n",
       "4           No         No       No        No    Male          80+   \n",
       "\n",
       "   Height_(cm)  Weight_(kg)    BMI Smoking_History  Alcohol_Consumption   \n",
       "0        150.0        32.66  14.54             Yes                  0.0  \\\n",
       "1        165.0        77.11  28.29              No                  0.0   \n",
       "2        163.0        88.45  33.47              No                  4.0   \n",
       "3        180.0        93.44  28.73              No                  0.0   \n",
       "4        191.0        88.45  24.37             Yes                  0.0   \n",
       "\n",
       "   Fruit_Consumption  Green_Vegetables_Consumption  FriedPotato_Consumption  \n",
       "0               30.0                          16.0                     12.0  \n",
       "1               30.0                           0.0                      4.0  \n",
       "2               12.0                           3.0                     16.0  \n",
       "3               30.0                          30.0                      8.0  \n",
       "4                8.0                           4.0                      0.0  "
      ]
     },
     "execution_count": 5,
     "metadata": {},
     "output_type": "execute_result"
    }
   ],
   "source": [
    "df.head()"
   ]
  },
  {
   "cell_type": "code",
   "execution_count": 6,
   "id": "97ad8378-4f14-4b7e-80e7-cca36d42a01a",
   "metadata": {
    "tags": []
   },
   "outputs": [
    {
     "data": {
      "text/plain": [
       "(308854, 19)"
      ]
     },
     "execution_count": 6,
     "metadata": {},
     "output_type": "execute_result"
    }
   ],
   "source": [
    "df.shape"
   ]
  },
  {
   "cell_type": "code",
   "execution_count": 7,
   "id": "94414f9f-a824-4cef-8272-2df66a7b7b14",
   "metadata": {
    "tags": []
   },
   "outputs": [
    {
     "name": "stdout",
     "output_type": "stream",
     "text": [
      "<class 'pandas.core.frame.DataFrame'>\n",
      "RangeIndex: 308854 entries, 0 to 308853\n",
      "Data columns (total 19 columns):\n",
      " #   Column                        Non-Null Count   Dtype  \n",
      "---  ------                        --------------   -----  \n",
      " 0   General_Health                308854 non-null  object \n",
      " 1   Checkup                       308854 non-null  object \n",
      " 2   Exercise                      308854 non-null  object \n",
      " 3   Heart_Disease                 308854 non-null  object \n",
      " 4   Skin_Cancer                   308854 non-null  object \n",
      " 5   Other_Cancer                  308854 non-null  object \n",
      " 6   Depression                    308854 non-null  object \n",
      " 7   Diabetes                      308854 non-null  object \n",
      " 8   Arthritis                     308854 non-null  object \n",
      " 9   Sex                           308854 non-null  object \n",
      " 10  Age_Category                  308854 non-null  object \n",
      " 11  Height_(cm)                   308854 non-null  float64\n",
      " 12  Weight_(kg)                   308854 non-null  float64\n",
      " 13  BMI                           308854 non-null  float64\n",
      " 14  Smoking_History               308854 non-null  object \n",
      " 15  Alcohol_Consumption           308854 non-null  float64\n",
      " 16  Fruit_Consumption             308854 non-null  float64\n",
      " 17  Green_Vegetables_Consumption  308854 non-null  float64\n",
      " 18  FriedPotato_Consumption       308854 non-null  float64\n",
      "dtypes: float64(7), object(12)\n",
      "memory usage: 44.8+ MB\n"
     ]
    }
   ],
   "source": [
    "df.info()"
   ]
  },
  {
   "cell_type": "code",
   "execution_count": 8,
   "id": "c921890c-d750-481c-b1c3-13228fa2dfa8",
   "metadata": {
    "tags": []
   },
   "outputs": [
    {
     "data": {
      "text/html": [
       "<div>\n",
       "<style scoped>\n",
       "    .dataframe tbody tr th:only-of-type {\n",
       "        vertical-align: middle;\n",
       "    }\n",
       "\n",
       "    .dataframe tbody tr th {\n",
       "        vertical-align: top;\n",
       "    }\n",
       "\n",
       "    .dataframe thead th {\n",
       "        text-align: right;\n",
       "    }\n",
       "</style>\n",
       "<table border=\"1\" class=\"dataframe\">\n",
       "  <thead>\n",
       "    <tr style=\"text-align: right;\">\n",
       "      <th></th>\n",
       "      <th>Height_(cm)</th>\n",
       "      <th>Weight_(kg)</th>\n",
       "      <th>BMI</th>\n",
       "      <th>Alcohol_Consumption</th>\n",
       "      <th>Fruit_Consumption</th>\n",
       "      <th>Green_Vegetables_Consumption</th>\n",
       "      <th>FriedPotato_Consumption</th>\n",
       "    </tr>\n",
       "  </thead>\n",
       "  <tbody>\n",
       "    <tr>\n",
       "      <th>count</th>\n",
       "      <td>308854.000000</td>\n",
       "      <td>308854.000000</td>\n",
       "      <td>308854.000000</td>\n",
       "      <td>308854.000000</td>\n",
       "      <td>308854.000000</td>\n",
       "      <td>308854.000000</td>\n",
       "      <td>308854.000000</td>\n",
       "    </tr>\n",
       "    <tr>\n",
       "      <th>mean</th>\n",
       "      <td>170.615249</td>\n",
       "      <td>83.588655</td>\n",
       "      <td>28.626211</td>\n",
       "      <td>5.096366</td>\n",
       "      <td>29.835200</td>\n",
       "      <td>15.110441</td>\n",
       "      <td>6.296616</td>\n",
       "    </tr>\n",
       "    <tr>\n",
       "      <th>std</th>\n",
       "      <td>10.658026</td>\n",
       "      <td>21.343210</td>\n",
       "      <td>6.522323</td>\n",
       "      <td>8.199763</td>\n",
       "      <td>24.875735</td>\n",
       "      <td>14.926238</td>\n",
       "      <td>8.582954</td>\n",
       "    </tr>\n",
       "    <tr>\n",
       "      <th>min</th>\n",
       "      <td>91.000000</td>\n",
       "      <td>24.950000</td>\n",
       "      <td>12.020000</td>\n",
       "      <td>0.000000</td>\n",
       "      <td>0.000000</td>\n",
       "      <td>0.000000</td>\n",
       "      <td>0.000000</td>\n",
       "    </tr>\n",
       "    <tr>\n",
       "      <th>25%</th>\n",
       "      <td>163.000000</td>\n",
       "      <td>68.040000</td>\n",
       "      <td>24.210000</td>\n",
       "      <td>0.000000</td>\n",
       "      <td>12.000000</td>\n",
       "      <td>4.000000</td>\n",
       "      <td>2.000000</td>\n",
       "    </tr>\n",
       "    <tr>\n",
       "      <th>50%</th>\n",
       "      <td>170.000000</td>\n",
       "      <td>81.650000</td>\n",
       "      <td>27.440000</td>\n",
       "      <td>1.000000</td>\n",
       "      <td>30.000000</td>\n",
       "      <td>12.000000</td>\n",
       "      <td>4.000000</td>\n",
       "    </tr>\n",
       "    <tr>\n",
       "      <th>75%</th>\n",
       "      <td>178.000000</td>\n",
       "      <td>95.250000</td>\n",
       "      <td>31.850000</td>\n",
       "      <td>6.000000</td>\n",
       "      <td>30.000000</td>\n",
       "      <td>20.000000</td>\n",
       "      <td>8.000000</td>\n",
       "    </tr>\n",
       "    <tr>\n",
       "      <th>max</th>\n",
       "      <td>241.000000</td>\n",
       "      <td>293.020000</td>\n",
       "      <td>99.330000</td>\n",
       "      <td>30.000000</td>\n",
       "      <td>120.000000</td>\n",
       "      <td>128.000000</td>\n",
       "      <td>128.000000</td>\n",
       "    </tr>\n",
       "  </tbody>\n",
       "</table>\n",
       "</div>"
      ],
      "text/plain": [
       "         Height_(cm)    Weight_(kg)            BMI  Alcohol_Consumption   \n",
       "count  308854.000000  308854.000000  308854.000000        308854.000000  \\\n",
       "mean      170.615249      83.588655      28.626211             5.096366   \n",
       "std        10.658026      21.343210       6.522323             8.199763   \n",
       "min        91.000000      24.950000      12.020000             0.000000   \n",
       "25%       163.000000      68.040000      24.210000             0.000000   \n",
       "50%       170.000000      81.650000      27.440000             1.000000   \n",
       "75%       178.000000      95.250000      31.850000             6.000000   \n",
       "max       241.000000     293.020000      99.330000            30.000000   \n",
       "\n",
       "       Fruit_Consumption  Green_Vegetables_Consumption   \n",
       "count      308854.000000                 308854.000000  \\\n",
       "mean           29.835200                     15.110441   \n",
       "std            24.875735                     14.926238   \n",
       "min             0.000000                      0.000000   \n",
       "25%            12.000000                      4.000000   \n",
       "50%            30.000000                     12.000000   \n",
       "75%            30.000000                     20.000000   \n",
       "max           120.000000                    128.000000   \n",
       "\n",
       "       FriedPotato_Consumption  \n",
       "count            308854.000000  \n",
       "mean                  6.296616  \n",
       "std                   8.582954  \n",
       "min                   0.000000  \n",
       "25%                   2.000000  \n",
       "50%                   4.000000  \n",
       "75%                   8.000000  \n",
       "max                 128.000000  "
      ]
     },
     "execution_count": 8,
     "metadata": {},
     "output_type": "execute_result"
    }
   ],
   "source": [
    "df.describe()"
   ]
  },
  {
   "cell_type": "code",
   "execution_count": 9,
   "id": "9a9b0317-e1da-4326-bd60-7cb46f709234",
   "metadata": {
    "tags": []
   },
   "outputs": [],
   "source": [
    "df_cleaned = df.copy()"
   ]
  },
  {
   "cell_type": "code",
   "execution_count": 10,
   "id": "63b44c5e-312b-4598-8731-3618a3c1024d",
   "metadata": {
    "tags": []
   },
   "outputs": [],
   "source": [
    "from sklearn.preprocessing import OneHotEncoder, StandardScaler, OrdinalEncoder"
   ]
  },
  {
   "cell_type": "code",
   "execution_count": 11,
   "id": "15d550c8-97ed-4b25-b7c1-a224fa01ed9f",
   "metadata": {
    "tags": []
   },
   "outputs": [],
   "source": [
    "num_cols = df_cleaned.select_dtypes(include=['float64']).columns"
   ]
  },
  {
   "cell_type": "code",
   "execution_count": 12,
   "id": "1f0ae8ef-b9c3-4f5d-bff0-90261ea37041",
   "metadata": {
    "tags": []
   },
   "outputs": [],
   "source": [
    "cat_cols = ['Arthritis', 'Depression', 'Diabetes', 'Exercise', 'Other_Cancer', 'Sex', 'Skin_Cancer', 'Smoking_History']"
   ]
  },
  {
   "cell_type": "code",
   "execution_count": 13,
   "id": "bd6cf4a9-6e7b-4528-a15e-30a5a326ee02",
   "metadata": {
    "tags": []
   },
   "outputs": [],
   "source": [
    "scaler = StandardScaler()"
   ]
  },
  {
   "cell_type": "code",
   "execution_count": 14,
   "id": "ffc6a56b-3642-4408-8886-9c84623e0710",
   "metadata": {
    "tags": []
   },
   "outputs": [],
   "source": [
    "num_features = pd.DataFrame(scaler.fit_transform(df_cleaned[num_cols]), columns=df_cleaned[num_cols].columns)"
   ]
  },
  {
   "cell_type": "code",
   "execution_count": 15,
   "id": "610a6e97-ecbb-4fe3-817d-85b0460cbd16",
   "metadata": {
    "tags": []
   },
   "outputs": [],
   "source": [
    "ohe = OneHotEncoder(sparse_output=False, drop='first')"
   ]
  },
  {
   "cell_type": "code",
   "execution_count": 16,
   "id": "1a2781fc-484d-4b59-8bd2-5e7cb1489791",
   "metadata": {
    "tags": []
   },
   "outputs": [],
   "source": [
    "cat_features = ohe.fit_transform(df_cleaned[cat_cols])"
   ]
  },
  {
   "cell_type": "code",
   "execution_count": 17,
   "id": "d9f61270-82ed-4a78-9794-c4ff245204c9",
   "metadata": {
    "tags": []
   },
   "outputs": [],
   "source": [
    "cat_features = pd.DataFrame(cat_features, columns=ohe.get_feature_names_out())"
   ]
  },
  {
   "cell_type": "code",
   "execution_count": 18,
   "id": "be4dd04a-5007-48d3-bcb1-1f73e88f8340",
   "metadata": {
    "tags": []
   },
   "outputs": [],
   "source": [
    "age_ord = OrdinalEncoder()\n",
    "ord_age_feature = age_ord.fit_transform(df_cleaned[['Age_Category']])\n",
    "ord_age_feature = pd.DataFrame(ord_age_feature, columns=['Age_Category'])"
   ]
  },
  {
   "cell_type": "code",
   "execution_count": 19,
   "id": "f3378d1f-9f22-4416-8057-c9170739ecc6",
   "metadata": {
    "tags": []
   },
   "outputs": [],
   "source": [
    "health_ord = OrdinalEncoder(categories=[['Poor','Fair','Good','Very Good','Excellent']])\n",
    "ord_health_feature = health_ord.fit_transform(df_cleaned[['General_Health']])\n",
    "ord_health_feature = pd.DataFrame(ord_health_feature, columns=['General_Health'])"
   ]
  },
  {
   "cell_type": "code",
   "execution_count": 20,
   "id": "41b524db-4179-4259-8904-c200d6de2077",
   "metadata": {
    "tags": []
   },
   "outputs": [],
   "source": [
    "checkup_ord = OrdinalEncoder(categories=[['Within the past year','Within the past 2 years','Within the past 5 years','5 or more years ago','Never']])\n",
    "ord_checkup_feature = checkup_ord.fit_transform(df_cleaned[['Checkup']])\n",
    "ord_checkup_feature = pd.DataFrame(ord_checkup_feature, columns=['Checkup'])"
   ]
  },
  {
   "cell_type": "code",
   "execution_count": 21,
   "id": "69be7db2-1169-4f28-bfde-8d310d33c9c2",
   "metadata": {
    "tags": []
   },
   "outputs": [],
   "source": [
    "features = num_features.copy()\n",
    "features[ohe.get_feature_names_out()] = cat_features[ohe.get_feature_names_out()]\n",
    "features['Age_Category'] = ord_age_feature['Age_Category']\n",
    "features['General_Health'] = ord_health_feature['General_Health']\n",
    "features['Checkup'] = ord_checkup_feature['Checkup']"
   ]
  },
  {
   "cell_type": "code",
   "execution_count": 22,
   "id": "da4ed7e8-aeb1-45be-8632-e842f2689e5d",
   "metadata": {
    "tags": []
   },
   "outputs": [],
   "source": [
    "features.to_csv('../data/interim/dataset_prepared.csv', index=False)"
   ]
  },
  {
   "cell_type": "code",
   "execution_count": 23,
   "id": "dd21d94a-4af0-4edd-8d83-4d4303a6e2aa",
   "metadata": {
    "tags": []
   },
   "outputs": [],
   "source": [
    "from joblib import dump"
   ]
  },
  {
   "cell_type": "code",
   "execution_count": 24,
   "id": "78bd5c39-c61a-42a6-8d4b-7e52895cf7e0",
   "metadata": {
    "tags": []
   },
   "outputs": [
    {
     "data": {
      "text/plain": [
       "['../models/checkup_ord.joblib']"
      ]
     },
     "execution_count": 24,
     "metadata": {},
     "output_type": "execute_result"
    }
   ],
   "source": [
    "dump(scaler, '../models/scaler.joblib')\n",
    "dump(ohe, '../models/ohe.joblib')\n",
    "dump(age_ord, '../models/age_ord.joblib')\n",
    "dump(health_ord, '../models/health_ord.joblib')\n",
    "dump(checkup_ord, '../models/checkup_ord.joblib')"
   ]
  },
  {
   "cell_type": "code",
   "execution_count": 25,
   "id": "bc0d9c23-541e-4907-8d58-ca2c9007a503",
   "metadata": {
    "tags": []
   },
   "outputs": [],
   "source": [
    "target = df_cleaned['Heart_Disease'].map({'Yes': 1, 'No': 0})"
   ]
  },
  {
   "cell_type": "code",
   "execution_count": 26,
   "id": "22106a42-c4e5-4114-8f4e-a96f3ff44d4c",
   "metadata": {
    "tags": []
   },
   "outputs": [],
   "source": [
    "from my_krml_149874.data.sets import split_sets_random\n",
    "\n",
    "X_train, y_train, X_val, y_val, X_test, y_test = split_sets_random(features, target, test_ratio=0.2)"
   ]
  },
  {
   "cell_type": "code",
   "execution_count": 27,
   "id": "1c7a5f6b-4c0c-4dfa-95e1-587df8616f74",
   "metadata": {
    "tags": []
   },
   "outputs": [],
   "source": [
    "from my_krml_149874.data.sets import save_sets\n",
    "\n",
    "save_sets(X_train, y_train, X_val, y_val, X_test, y_test, path='../data/processed/')"
   ]
  },
  {
   "cell_type": "code",
   "execution_count": 28,
   "id": "8c4e0d8b-7e3b-4ac8-a1c3-a87f019cd29c",
   "metadata": {
    "tags": []
   },
   "outputs": [],
   "source": [
    "from my_krml_149874.models.null import NullClassifier"
   ]
  },
  {
   "cell_type": "code",
   "execution_count": 29,
   "id": "9cf03b8f-e0bc-4c9e-a009-1478029a828b",
   "metadata": {
    "tags": []
   },
   "outputs": [],
   "source": [
    "base_model = NullClassifier()"
   ]
  },
  {
   "cell_type": "code",
   "execution_count": 30,
   "id": "3abd62f1-3f39-4cc8-b850-b9d240230807",
   "metadata": {
    "tags": []
   },
   "outputs": [
    {
     "name": "stderr",
     "output_type": "stream",
     "text": [
      "/Users/admin/Library/Caches/pypoetry/virtualenvs/adv-mla-lab-4-6rnbtT38-py3.10/lib/python3.10/site-packages/my_krml_149874/models/null.py:80: FutureWarning: Unlike other reduction functions (e.g. `skew`, `kurtosis`), the default behavior of `mode` typically preserves the axis it acts along. In SciPy 1.11.0, this behavior will change: the default value of `keepdims` will become False, the `axis` over which the statistic is taken will be eliminated, and the value None will no longer be accepted. Set `keepdims` to True or False to avoid this warning.\n",
      "  self.pred_value = mode(y)[0][0]\n"
     ]
    }
   ],
   "source": [
    "y_base = base_model.fit_predict(y_train)"
   ]
  },
  {
   "cell_type": "code",
   "execution_count": 31,
   "id": "d2354739-4c57-4eca-af00-2d6320b60d71",
   "metadata": {
    "tags": []
   },
   "outputs": [
    {
     "name": "stdout",
     "output_type": "stream",
     "text": [
      "Accuracy Training: 0.9196112502158522\n",
      "F1 Training: 0.0\n"
     ]
    }
   ],
   "source": [
    "from my_krml_149874.models.performance import print_classifier_scores\n",
    "\n",
    "print_classifier_scores(y_preds=y_base, y_actuals=y_train, set_name='Training')"
   ]
  },
  {
   "cell_type": "code",
   "execution_count": 32,
   "id": "215e1e16-65e4-4475-8989-d431b667625c",
   "metadata": {
    "tags": []
   },
   "outputs": [],
   "source": [
    "from sklearn.linear_model import SGDClassifier"
   ]
  },
  {
   "cell_type": "code",
   "execution_count": 33,
   "id": "39494ac0-799b-47e9-8b08-0534c383c55e",
   "metadata": {
    "tags": []
   },
   "outputs": [],
   "source": [
    "model = SGDClassifier(loss='log_loss', penalty='elasticnet', max_iter=100000, early_stopping=True, random_state=42)"
   ]
  },
  {
   "cell_type": "code",
   "execution_count": 34,
   "id": "80ca6e6d-5620-4904-b35c-5412329c9230",
   "metadata": {
    "tags": []
   },
   "outputs": [],
   "source": [
    "from my_krml_149874.models.performance import fit_assess_classifier"
   ]
  },
  {
   "cell_type": "code",
   "execution_count": 35,
   "id": "4e140dec-da64-459c-bef8-d508023b6025",
   "metadata": {
    "tags": []
   },
   "outputs": [
    {
     "name": "stdout",
     "output_type": "stream",
     "text": [
      "Accuracy Training: 0.9073184683128993\n",
      "F1 Training: 0.3056959210898654\n",
      "Accuracy Validation: 0.905845785239028\n",
      "F1 Validation: 0.2992771084337349\n"
     ]
    }
   ],
   "source": [
    "model = fit_assess_classifier(model, X_train, y_train, X_val, y_val)"
   ]
  },
  {
   "cell_type": "code",
   "execution_count": 36,
   "id": "afcfb484-4d8f-4988-b81f-90f58307d295",
   "metadata": {
    "tags": []
   },
   "outputs": [
    {
     "data": {
      "text/plain": [
       "['../models/sgd.joblib']"
      ]
     },
     "execution_count": 36,
     "metadata": {},
     "output_type": "execute_result"
    }
   ],
   "source": [
    "from joblib import dump\n",
    "\n",
    "dump(model,  '../models/sgd.joblib')"
   ]
  },
  {
   "cell_type": "code",
   "execution_count": 40,
   "id": "062cd5b3-4e1e-4760-af31-9e367ac4503b",
   "metadata": {
    "tags": []
   },
   "outputs": [
    {
     "ename": "SyntaxError",
     "evalue": "invalid syntax (3827820173.py, line 1)",
     "output_type": "error",
     "traceback": [
      "\u001b[0;36m  Cell \u001b[0;32mIn[40], line 1\u001b[0;36m\u001b[0m\n\u001b[0;31m    git add .\u001b[0m\n\u001b[0m        ^\u001b[0m\n\u001b[0;31mSyntaxError\u001b[0m\u001b[0;31m:\u001b[0m invalid syntax\n"
     ]
    }
   ],
   "source": [
    "git add ."
   ]
  },
  {
   "cell_type": "code",
   "execution_count": null,
   "id": "73e70268-3d46-46b6-844c-fe947b8a75b0",
   "metadata": {},
   "outputs": [],
   "source": []
  }
 ],
 "metadata": {
  "kernelspec": {
   "display_name": "Python 3 (ipykernel)",
   "language": "python",
   "name": "python3"
  },
  "language_info": {
   "codemirror_mode": {
    "name": "ipython",
    "version": 3
   },
   "file_extension": ".py",
   "mimetype": "text/x-python",
   "name": "python",
   "nbconvert_exporter": "python",
   "pygments_lexer": "ipython3",
   "version": "3.10.11"
  }
 },
 "nbformat": 4,
 "nbformat_minor": 5
}
